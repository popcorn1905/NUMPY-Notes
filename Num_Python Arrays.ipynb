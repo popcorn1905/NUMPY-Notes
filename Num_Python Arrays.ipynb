{
 "cells": [
  {
   "cell_type": "code",
   "execution_count": 1,
   "id": "d2dc5994",
   "metadata": {},
   "outputs": [],
   "source": [
    "import numpy as np"
   ]
  },
  {
   "cell_type": "code",
   "execution_count": 2,
   "id": "eee9e0b3",
   "metadata": {},
   "outputs": [],
   "source": [
    "mylist=[1,2,3]"
   ]
  },
  {
   "cell_type": "code",
   "execution_count": 3,
   "id": "802d1391",
   "metadata": {},
   "outputs": [
    {
     "data": {
      "text/plain": [
       "list"
      ]
     },
     "execution_count": 3,
     "metadata": {},
     "output_type": "execute_result"
    }
   ],
   "source": [
    "type(mylist)"
   ]
  },
  {
   "cell_type": "code",
   "execution_count": 5,
   "id": "7550e298",
   "metadata": {},
   "outputs": [],
   "source": [
    "myarr=np.array(mylist)"
   ]
  },
  {
   "cell_type": "code",
   "execution_count": 6,
   "id": "b1259626",
   "metadata": {},
   "outputs": [
    {
     "data": {
      "text/plain": [
       "array([1, 2, 3])"
      ]
     },
     "execution_count": 6,
     "metadata": {},
     "output_type": "execute_result"
    }
   ],
   "source": [
    "myarr"
   ]
  },
  {
   "cell_type": "code",
   "execution_count": 7,
   "id": "47b7c39c",
   "metadata": {},
   "outputs": [
    {
     "data": {
      "text/plain": [
       "numpy.ndarray"
      ]
     },
     "execution_count": 7,
     "metadata": {},
     "output_type": "execute_result"
    }
   ],
   "source": [
    "type(myarr)"
   ]
  },
  {
   "cell_type": "code",
   "execution_count": 8,
   "id": "d5101ac0",
   "metadata": {},
   "outputs": [],
   "source": [
    "my_matrix=[[1,2,3],[4,5,6]]"
   ]
  },
  {
   "cell_type": "code",
   "execution_count": 9,
   "id": "9a96b27d",
   "metadata": {},
   "outputs": [
    {
     "data": {
      "text/plain": [
       "[[1, 2, 3], [4, 5, 6]]"
      ]
     },
     "execution_count": 9,
     "metadata": {},
     "output_type": "execute_result"
    }
   ],
   "source": [
    "my_matrix"
   ]
  },
  {
   "cell_type": "code",
   "execution_count": 10,
   "id": "295eff58",
   "metadata": {},
   "outputs": [
    {
     "data": {
      "text/plain": [
       "array([[1, 2, 3],\n",
       "       [4, 5, 6]])"
      ]
     },
     "execution_count": 10,
     "metadata": {},
     "output_type": "execute_result"
    }
   ],
   "source": [
    "np.array(my_matrix)"
   ]
  },
  {
   "cell_type": "code",
   "execution_count": 13,
   "id": "1aa2b79e",
   "metadata": {},
   "outputs": [
    {
     "data": {
      "text/plain": [
       "array([0, 2, 4, 6, 8])"
      ]
     },
     "execution_count": 13,
     "metadata": {},
     "output_type": "execute_result"
    }
   ],
   "source": [
    "np.arange(0,10,2)"
   ]
  },
  {
   "cell_type": "code",
   "execution_count": 14,
   "id": "7eee96d1",
   "metadata": {},
   "outputs": [
    {
     "data": {
      "text/plain": [
       "array([0., 0., 0., 0., 0.])"
      ]
     },
     "execution_count": 14,
     "metadata": {},
     "output_type": "execute_result"
    }
   ],
   "source": [
    "np.zeros(5)"
   ]
  },
  {
   "cell_type": "code",
   "execution_count": 16,
   "id": "5a8696f8",
   "metadata": {},
   "outputs": [
    {
     "data": {
      "text/plain": [
       "array([[0., 0., 0., 0., 0.],\n",
       "       [0., 0., 0., 0., 0.],\n",
       "       [0., 0., 0., 0., 0.],\n",
       "       [0., 0., 0., 0., 0.],\n",
       "       [0., 0., 0., 0., 0.]])"
      ]
     },
     "execution_count": 16,
     "metadata": {},
     "output_type": "execute_result"
    }
   ],
   "source": [
    "np.zeros((5,5))"
   ]
  },
  {
   "cell_type": "code",
   "execution_count": 17,
   "id": "47aede06",
   "metadata": {},
   "outputs": [
    {
     "data": {
      "text/plain": [
       "array([1., 1., 1., 1., 1.])"
      ]
     },
     "execution_count": 17,
     "metadata": {},
     "output_type": "execute_result"
    }
   ],
   "source": [
    "np.ones(5)"
   ]
  },
  {
   "cell_type": "code",
   "execution_count": 19,
   "id": "4b6f4b93",
   "metadata": {},
   "outputs": [
    {
     "data": {
      "text/plain": [
       "array([ 0.        ,  0.26315789,  0.52631579,  0.78947368,  1.05263158,\n",
       "        1.31578947,  1.57894737,  1.84210526,  2.10526316,  2.36842105,\n",
       "        2.63157895,  2.89473684,  3.15789474,  3.42105263,  3.68421053,\n",
       "        3.94736842,  4.21052632,  4.47368421,  4.73684211,  5.        ,\n",
       "        5.26315789,  5.52631579,  5.78947368,  6.05263158,  6.31578947,\n",
       "        6.57894737,  6.84210526,  7.10526316,  7.36842105,  7.63157895,\n",
       "        7.89473684,  8.15789474,  8.42105263,  8.68421053,  8.94736842,\n",
       "        9.21052632,  9.47368421,  9.73684211, 10.        ])"
      ]
     },
     "execution_count": 19,
     "metadata": {},
     "output_type": "execute_result"
    }
   ],
   "source": [
    "np.linspace(0,10,39)"
   ]
  },
  {
   "cell_type": "code",
   "execution_count": 20,
   "id": "8e03ac0c",
   "metadata": {},
   "outputs": [
    {
     "data": {
      "text/plain": [
       "array([[1., 0., 0., 0., 0., 0.],\n",
       "       [0., 1., 0., 0., 0., 0.],\n",
       "       [0., 0., 1., 0., 0., 0.],\n",
       "       [0., 0., 0., 1., 0., 0.],\n",
       "       [0., 0., 0., 0., 1., 0.],\n",
       "       [0., 0., 0., 0., 0., 1.]])"
      ]
     },
     "execution_count": 20,
     "metadata": {},
     "output_type": "execute_result"
    }
   ],
   "source": [
    "np.eye(6) #idetity matrix"
   ]
  },
  {
   "cell_type": "code",
   "execution_count": 21,
   "id": "ea13e4a5",
   "metadata": {},
   "outputs": [
    {
     "data": {
      "text/plain": [
       "array([0.29899683, 0.36458469, 0.00129237, 0.59582795, 0.5111608 ,\n",
       "       0.13512443, 0.85612783, 0.47537456, 0.9462075 , 0.68768605,\n",
       "       0.88699844, 0.30915293, 0.37604398, 0.45515207, 0.34062381,\n",
       "       0.85502911, 0.95407033, 0.07055621, 0.84738725, 0.11332195,\n",
       "       0.7991056 , 0.36056522, 0.16736362, 0.73496984, 0.17810841,\n",
       "       0.7204066 , 0.05245591, 0.19510119, 0.26368169, 0.89672575,\n",
       "       0.61310735, 0.9722364 , 0.84123436, 0.07400813, 0.50196454,\n",
       "       0.69248416, 0.59123925, 0.5450137 , 0.33461194, 0.09249107,\n",
       "       0.6722927 , 0.72846466, 0.58758027, 0.00777315, 0.20684991,\n",
       "       0.61493706, 0.44486647, 0.89055263, 0.87869674, 0.69648593,\n",
       "       0.78508204, 0.57894057, 0.92593623, 0.74817892, 0.90820713,\n",
       "       0.98546144, 0.09971405, 0.2469958 , 0.14843701, 0.4468204 ,\n",
       "       0.69531227, 0.0521917 , 0.4606162 , 0.58454423, 0.61660896,\n",
       "       0.79855266, 0.67223986, 0.18445622, 0.67211394, 0.86737168,\n",
       "       0.88593299, 0.76197445, 0.40613839, 0.08330317, 0.70761869,\n",
       "       0.62329141, 0.80080718, 0.02275331, 0.19255267, 0.43315721,\n",
       "       0.77759131, 0.3191818 , 0.96184635, 0.03281671, 0.56367404,\n",
       "       0.77870946, 0.73552106, 0.6736802 , 0.13798211, 0.07851139,\n",
       "       0.89939489, 0.66418756, 0.08417961, 0.58259209, 0.36365794,\n",
       "       0.24112523, 0.14808709, 0.87819019, 0.89760509, 0.77501127])"
      ]
     },
     "execution_count": 21,
     "metadata": {},
     "output_type": "execute_result"
    }
   ],
   "source": [
    "np.random.rand(100)"
   ]
  },
  {
   "cell_type": "code",
   "execution_count": 22,
   "id": "9e2b2b88",
   "metadata": {},
   "outputs": [
    {
     "data": {
      "text/plain": [
       "array([[0.57183377, 0.48527827],\n",
       "       [0.27799348, 0.87896318],\n",
       "       [0.67206687, 0.70168609],\n",
       "       [0.52452414, 0.06584018],\n",
       "       [0.25437324, 0.66435661]])"
      ]
     },
     "execution_count": 22,
     "metadata": {},
     "output_type": "execute_result"
    }
   ],
   "source": [
    "np.random.rand(5,2)"
   ]
  },
  {
   "cell_type": "code",
   "execution_count": 23,
   "id": "3932077d",
   "metadata": {},
   "outputs": [
    {
     "data": {
      "text/plain": [
       "array([ 0.61127391,  0.04424891, -0.6191287 , -0.06549449,  0.47521674,\n",
       "       -0.15263509,  1.02388091, -0.06174478,  2.13219658,  0.65517301])"
      ]
     },
     "execution_count": 23,
     "metadata": {},
     "output_type": "execute_result"
    }
   ],
   "source": [
    "np.random.randn(10)"
   ]
  },
  {
   "cell_type": "code",
   "execution_count": 26,
   "id": "5a50a4ad",
   "metadata": {},
   "outputs": [
    {
     "data": {
      "text/plain": [
       "array([[35, 82, 10, 13, 10,  8, 80, 35, 49, 18],\n",
       "       [98, 22, 35, 29, 55,  5, 44, 44,  8, 15],\n",
       "       [ 8, 25, 38,  2, 97, 31, 63, 42, 22, 16],\n",
       "       [18, 51, 17, 99, 40, 44, 53, 25, 38,  1],\n",
       "       [33,  1, 15,  8, 86, 97, 56, 29, 87, 34],\n",
       "       [63,  2, 20, 51, 72, 28, 71,  7, 98, 32],\n",
       "       [34, 32, 13, 76, 58, 48, 88, 50,  5, 70],\n",
       "       [16, 98,  9, 27, 48, 84, 41, 83, 11,  3],\n",
       "       [ 9,  1,  2, 72, 62, 51, 48, 52,  5, 27],\n",
       "       [56, 88, 27, 47,  2, 38, 23, 92, 56, 79]])"
      ]
     },
     "execution_count": 26,
     "metadata": {},
     "output_type": "execute_result"
    }
   ],
   "source": [
    "np.random.randint(1,100,(10,10))"
   ]
  },
  {
   "cell_type": "code",
   "execution_count": 27,
   "id": "89b74999",
   "metadata": {},
   "outputs": [],
   "source": [
    "np.random.seed(42)"
   ]
  },
  {
   "cell_type": "code",
   "execution_count": 36,
   "id": "2a85e373",
   "metadata": {},
   "outputs": [],
   "source": [
    "arr=np.arange(0,25)"
   ]
  },
  {
   "cell_type": "code",
   "execution_count": 35,
   "id": "3b24708b",
   "metadata": {},
   "outputs": [
    {
     "data": {
      "text/plain": [
       "array([[ 0,  1,  2,  3,  4],\n",
       "       [ 5,  6,  7,  8,  9],\n",
       "       [10, 11, 12, 13, 14],\n",
       "       [15, 16, 17, 18, 19],\n",
       "       [20, 21, 22, 23, 24]])"
      ]
     },
     "execution_count": 35,
     "metadata": {},
     "output_type": "execute_result"
    }
   ],
   "source": [
    "arr.reshape(5,5)"
   ]
  },
  {
   "cell_type": "code",
   "execution_count": 37,
   "id": "ddfcdd5e",
   "metadata": {},
   "outputs": [
    {
     "data": {
      "text/plain": [
       "24"
      ]
     },
     "execution_count": 37,
     "metadata": {},
     "output_type": "execute_result"
    }
   ],
   "source": [
    "arr.max()"
   ]
  },
  {
   "cell_type": "code",
   "execution_count": 38,
   "id": "18cc5890",
   "metadata": {},
   "outputs": [
    {
     "data": {
      "text/plain": [
       "24"
      ]
     },
     "execution_count": 38,
     "metadata": {},
     "output_type": "execute_result"
    }
   ],
   "source": [
    "arr.argmax()"
   ]
  },
  {
   "cell_type": "code",
   "execution_count": 39,
   "id": "030201b4",
   "metadata": {},
   "outputs": [],
   "source": [
    "ranrr=np.random.randint(0,10,3)"
   ]
  },
  {
   "cell_type": "code",
   "execution_count": 40,
   "id": "8dd62af6",
   "metadata": {},
   "outputs": [
    {
     "data": {
      "text/plain": [
       "array([6, 3, 7])"
      ]
     },
     "execution_count": 40,
     "metadata": {},
     "output_type": "execute_result"
    }
   ],
   "source": [
    "ranrr"
   ]
  },
  {
   "cell_type": "code",
   "execution_count": 42,
   "id": "e80a54e5",
   "metadata": {},
   "outputs": [
    {
     "data": {
      "text/plain": [
       "array([[6, 3, 7]])"
      ]
     },
     "execution_count": 42,
     "metadata": {},
     "output_type": "execute_result"
    }
   ],
   "source": [
    "ranrr.reshape(1,3)"
   ]
  },
  {
   "cell_type": "code",
   "execution_count": 43,
   "id": "8073608d",
   "metadata": {},
   "outputs": [
    {
     "data": {
      "text/plain": [
       "2"
      ]
     },
     "execution_count": 43,
     "metadata": {},
     "output_type": "execute_result"
    }
   ],
   "source": [
    "ranrr.argmax()"
   ]
  },
  {
   "cell_type": "code",
   "execution_count": 44,
   "id": "3b6a5c92",
   "metadata": {},
   "outputs": [
    {
     "data": {
      "text/plain": [
       "dtype('int32')"
      ]
     },
     "execution_count": 44,
     "metadata": {},
     "output_type": "execute_result"
    }
   ],
   "source": [
    "ranrr.dtype"
   ]
  },
  {
   "cell_type": "code",
   "execution_count": null,
   "id": "25d4b4b8",
   "metadata": {},
   "outputs": [],
   "source": []
  }
 ],
 "metadata": {
  "kernelspec": {
   "display_name": "Python 3 (ipykernel)",
   "language": "python",
   "name": "python3"
  },
  "language_info": {
   "codemirror_mode": {
    "name": "ipython",
    "version": 3
   },
   "file_extension": ".py",
   "mimetype": "text/x-python",
   "name": "python",
   "nbconvert_exporter": "python",
   "pygments_lexer": "ipython3",
   "version": "3.8.20"
  }
 },
 "nbformat": 4,
 "nbformat_minor": 5
}
